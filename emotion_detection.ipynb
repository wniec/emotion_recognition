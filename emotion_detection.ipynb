{
 "cells": [
  {
   "cell_type": "code",
   "execution_count": 1,
   "id": "1c60ef3b",
   "metadata": {},
   "outputs": [],
   "source": [
    "import os\n",
    "import matplotlib.pyplot as plt\n",
    "import numpy as np\n",
    "import tensorflow as tf\n",
    "import json\n",
    "import cv2"
   ]
  },
  {
   "cell_type": "code",
   "execution_count": 2,
   "id": "8065b8c6",
   "metadata": {},
   "outputs": [
    {
     "name": "stdout",
     "output_type": "stream",
     "text": [
      "PhysicalDevice(name='/physical_device:GPU:0', device_type='GPU')\n"
     ]
    }
   ],
   "source": [
    "gpus = tf.config.experimental.list_physical_devices('GPU')\n",
    "for gpu in gpus:\n",
    "    print(gpu)\n",
    "    tf.config.experimental.set_memory_growth(gpu, True)"
   ]
  },
  {
   "cell_type": "code",
   "execution_count": 3,
   "id": "cb2eea9e",
   "metadata": {},
   "outputs": [],
   "source": [
    "TRAIN_PATH = os.path.join('data', 'train')\n",
    "TEST_PATH = os.path.join('data', 'test')"
   ]
  },
  {
   "cell_type": "code",
   "execution_count": 4,
   "id": "e09e7530",
   "metadata": {},
   "outputs": [],
   "source": [
    "emotion_dict = {\n",
    "    'angry':0,\n",
    "    'disgusted':1,\n",
    "    'fearful':2,\n",
    "    'happy':3,\n",
    "    'neutral':4,\n",
    "    'sad':5,\n",
    "    'surprised':6\n",
    "}"
   ]
  },
  {
   "cell_type": "code",
   "execution_count": 5,
   "id": "9fc8fe0c",
   "metadata": {},
   "outputs": [],
   "source": [
    "def emotion_to_vec(emotion):\n",
    "    vec = np.zeros((7,))\n",
    "    vec[emotion_dict[emotion]]=1\n",
    "    return vec"
   ]
  },
  {
   "cell_type": "code",
   "execution_count": 6,
   "id": "44bb19e0",
   "metadata": {},
   "outputs": [],
   "source": [
    "train = tf.data.Dataset.list_files(os.path.join(TRAIN_PATH,'*',\"*.png\"), shuffle = False)\n",
    "test = tf.data.Dataset.list_files(os.path.join(TEST_PATH,'*',\"*.png\"), shuffle = False)"
   ]
  },
  {
   "cell_type": "code",
   "execution_count": 7,
   "id": "1cf93bfa",
   "metadata": {},
   "outputs": [],
   "source": [
    "train_emotions = train.as_numpy_iterator()\n",
    "test_emotions = test.as_numpy_iterator()"
   ]
  },
  {
   "cell_type": "code",
   "execution_count": 8,
   "id": "c8f16b82",
   "metadata": {},
   "outputs": [
    {
     "name": "stdout",
     "output_type": "stream",
     "text": [
      "28709\n",
      "7178\n"
     ]
    }
   ],
   "source": [
    "print(len(train))\n",
    "print(len(test))\n"
   ]
  },
  {
   "cell_type": "code",
   "execution_count": 9,
   "id": "9c5bbc94",
   "metadata": {},
   "outputs": [],
   "source": [
    "def get_emotion(image_name):\n",
    "    emotion = image_name.split(b'\\\\')[2].decode('utf-8')\n",
    "    return emotion_to_vec(emotion)"
   ]
  },
  {
   "cell_type": "code",
   "execution_count": 10,
   "id": "b7cb3ed0",
   "metadata": {},
   "outputs": [],
   "source": [
    "def load_image(image):\n",
    "    byte_img = tf.io.read_file(image)\n",
    "    #print(type(original))\n",
    "    original = tf.image.decode_png(byte_img, channels=3)\n",
    "    return original/255"
   ]
  },
  {
   "cell_type": "code",
   "execution_count": 11,
   "id": "55276d74",
   "metadata": {},
   "outputs": [],
   "source": [
    "train = train.map(load_image)\n",
    "test = test.map(load_image)"
   ]
  },
  {
   "cell_type": "code",
   "execution_count": 12,
   "id": "60420ea9",
   "metadata": {},
   "outputs": [
    {
     "data": {
      "text/plain": [
       "(48, 48, 3)"
      ]
     },
     "execution_count": 12,
     "metadata": {},
     "output_type": "execute_result"
    }
   ],
   "source": [
    "#type(train.as_numpy_iterator())\n",
    "train.as_numpy_iterator().next().shape"
   ]
  },
  {
   "cell_type": "code",
   "execution_count": 13,
   "id": "038310ba",
   "metadata": {},
   "outputs": [],
   "source": [
    "train_emo = tf.data.Dataset.from_tensor_slices([get_emotion(image_name) for image_name in train_emotions])\n",
    "test_emo = tf.data.Dataset.from_tensor_slices([get_emotion(image_name) for image_name in test_emotions])"
   ]
  },
  {
   "cell_type": "code",
   "execution_count": 14,
   "id": "3113d42a",
   "metadata": {},
   "outputs": [
    {
     "name": "stdout",
     "output_type": "stream",
     "text": [
      "28709\n",
      "28709\n"
     ]
    }
   ],
   "source": [
    "print(len(train))\n",
    "print(len(train_emo))"
   ]
  },
  {
   "cell_type": "code",
   "execution_count": 15,
   "id": "8daf4a58",
   "metadata": {},
   "outputs": [
    {
     "name": "stdout",
     "output_type": "stream",
     "text": [
      "<class 'tensorflow.python.data.ops.dataset_ops.MapDataset'>\n",
      "<class 'tensorflow.python.data.ops.dataset_ops.TensorSliceDataset'>\n"
     ]
    }
   ],
   "source": [
    "print(type(train))\n",
    "print(type(train_emo))"
   ]
  },
  {
   "cell_type": "code",
   "execution_count": 16,
   "id": "cab9ab41",
   "metadata": {},
   "outputs": [],
   "source": [
    "train_all = tf.data.Dataset.zip((train,train_emo))\n",
    "test_all = tf.data.Dataset.zip((test,test_emo))"
   ]
  },
  {
   "cell_type": "code",
   "execution_count": 17,
   "id": "0c35cb90",
   "metadata": {},
   "outputs": [
    {
     "data": {
      "text/plain": [
       "28709"
      ]
     },
     "execution_count": 17,
     "metadata": {},
     "output_type": "execute_result"
    }
   ],
   "source": [
    "len(train_all)"
   ]
  },
  {
   "cell_type": "code",
   "execution_count": 18,
   "id": "96f4f27c",
   "metadata": {},
   "outputs": [
    {
     "data": {
      "text/plain": [
       "array([1., 0., 0., 0., 0., 0., 0.])"
      ]
     },
     "execution_count": 18,
     "metadata": {},
     "output_type": "execute_result"
    }
   ],
   "source": [
    "train_all.as_numpy_iterator().next()[1]"
   ]
  },
  {
   "cell_type": "code",
   "execution_count": 19,
   "id": "9c15c943",
   "metadata": {},
   "outputs": [],
   "source": [
    "train=train_all\n",
    "test=test_all"
   ]
  },
  {
   "cell_type": "code",
   "execution_count": 20,
   "id": "73ac0f70",
   "metadata": {},
   "outputs": [],
   "source": [
    "im = train.as_numpy_iterator().next()[0]"
   ]
  },
  {
   "cell_type": "code",
   "execution_count": 21,
   "id": "eb9cd6ad",
   "metadata": {},
   "outputs": [
    {
     "data": {
      "text/plain": [
       "array([[0.27450982, 0.27450982, 0.27450982],\n",
       "       [0.3137255 , 0.3137255 , 0.3137255 ],\n",
       "       [0.32156864, 0.32156864, 0.32156864],\n",
       "       [0.28235295, 0.28235295, 0.28235295],\n",
       "       [0.22745098, 0.22745098, 0.22745098],\n",
       "       [0.22745098, 0.22745098, 0.22745098],\n",
       "       [0.23529412, 0.23529412, 0.23529412],\n",
       "       [0.24705882, 0.24705882, 0.24705882],\n",
       "       [0.21176471, 0.21176471, 0.21176471],\n",
       "       [0.22745098, 0.22745098, 0.22745098],\n",
       "       [0.23529412, 0.23529412, 0.23529412],\n",
       "       [0.1882353 , 0.1882353 , 0.1882353 ],\n",
       "       [0.34901962, 0.34901962, 0.34901962],\n",
       "       [0.4509804 , 0.4509804 , 0.4509804 ],\n",
       "       [0.4745098 , 0.4745098 , 0.4745098 ],\n",
       "       [0.46666667, 0.46666667, 0.46666667],\n",
       "       [0.4509804 , 0.4509804 , 0.4509804 ],\n",
       "       [0.43137255, 0.43137255, 0.43137255],\n",
       "       [0.38431373, 0.38431373, 0.38431373],\n",
       "       [0.35686275, 0.35686275, 0.35686275],\n",
       "       [0.32941177, 0.32941177, 0.32941177],\n",
       "       [0.32941177, 0.32941177, 0.32941177],\n",
       "       [0.3529412 , 0.3529412 , 0.3529412 ],\n",
       "       [0.3882353 , 0.3882353 , 0.3882353 ],\n",
       "       [0.43137255, 0.43137255, 0.43137255],\n",
       "       [0.49411765, 0.49411765, 0.49411765],\n",
       "       [0.56078434, 0.56078434, 0.56078434],\n",
       "       [0.6       , 0.6       , 0.6       ],\n",
       "       [0.61960787, 0.61960787, 0.61960787],\n",
       "       [0.67058825, 0.67058825, 0.67058825],\n",
       "       [0.6627451 , 0.6627451 , 0.6627451 ],\n",
       "       [0.6745098 , 0.6745098 , 0.6745098 ],\n",
       "       [0.6627451 , 0.6627451 , 0.6627451 ],\n",
       "       [0.64705884, 0.64705884, 0.64705884],\n",
       "       [0.5058824 , 0.5058824 , 0.5058824 ],\n",
       "       [0.43137255, 0.43137255, 0.43137255],\n",
       "       [0.44313726, 0.44313726, 0.44313726],\n",
       "       [0.41960785, 0.41960785, 0.41960785],\n",
       "       [0.37254903, 0.37254903, 0.37254903],\n",
       "       [0.30980393, 0.30980393, 0.30980393],\n",
       "       [0.25882354, 0.25882354, 0.25882354],\n",
       "       [0.24313726, 0.24313726, 0.24313726],\n",
       "       [0.21960784, 0.21960784, 0.21960784],\n",
       "       [0.22352941, 0.22352941, 0.22352941],\n",
       "       [0.23921569, 0.23921569, 0.23921569],\n",
       "       [0.20392157, 0.20392157, 0.20392157],\n",
       "       [0.16862746, 0.16862746, 0.16862746],\n",
       "       [0.16078432, 0.16078432, 0.16078432]], dtype=float32)"
      ]
     },
     "execution_count": 21,
     "metadata": {},
     "output_type": "execute_result"
    }
   ],
   "source": [
    "im[0]"
   ]
  },
  {
   "cell_type": "code",
   "execution_count": 22,
   "id": "977e7c49",
   "metadata": {},
   "outputs": [
    {
     "data": {
      "text/plain": [
       "<matplotlib.image.AxesImage at 0x1e39619d278>"
      ]
     },
     "execution_count": 22,
     "metadata": {},
     "output_type": "execute_result"
    },
    {
     "data": {
      "image/png": "[encoded data removed]",
      "text/plain": [
       "<Figure size 640x480 with 1 Axes>"
      ]
     },
     "metadata": {},
     "output_type": "display_data"
    }
   ],
   "source": [
    "plt.imshow(im)"
   ]
  },
  {
   "cell_type": "code",
   "execution_count": 23,
   "id": "801de1c2",
   "metadata": {},
   "outputs": [],
   "source": [
    "image_generator = test.batch(4).as_numpy_iterator()"
   ]
  },
  {
   "cell_type": "code",
   "execution_count": 24,
   "id": "1ac28b5c",
   "metadata": {},
   "outputs": [],
   "source": [
    "plot_images = image_generator.next()"
   ]
  },
  {
   "cell_type": "code",
   "execution_count": 25,
   "id": "d98ba5ac",
   "metadata": {},
   "outputs": [
    {
     "name": "stdout",
     "output_type": "stream",
     "text": [
      "<class 'numpy.ndarray'>\n",
      "48\n",
      "<class 'numpy.ndarray'>\n",
      "48\n",
      "<class 'numpy.ndarray'>\n",
      "48\n",
      "<class 'numpy.ndarray'>\n",
      "48\n"
     ]
    },
    {
     "data": {
      "image/png": "[encoded data removed]",
      "text/plain": [
       "<Figure size 2000x2000 with 4 Axes>"
      ]
     },
     "metadata": {},
     "output_type": "display_data"
    }
   ],
   "source": [
    "fig, ax = plt.subplots(ncols = 4, figsize =(20,20))\n",
    "for idx, data in enumerate(plot_images[0]):\n",
    "    print(type(data))\n",
    "    print(len(data))\n",
    "    ax[idx].imshow(data)\n",
    "plt.show()"
   ]
  },
  {
   "cell_type": "code",
   "execution_count": 26,
   "id": "1ce055fb",
   "metadata": {},
   "outputs": [],
   "source": [
    "def prepare_data(data):\n",
    "    data = data.shuffle(30000)\n",
    "    data = data.batch(8)\n",
    "    return data.prefetch(4)"
   ]
  },
  {
   "cell_type": "code",
   "execution_count": 27,
   "id": "40564d2d",
   "metadata": {},
   "outputs": [],
   "source": [
    "train = prepare_data(train)\n",
    "test = prepare_data(test)"
   ]
  },
  {
   "cell_type": "code",
   "execution_count": 28,
   "id": "32961293",
   "metadata": {},
   "outputs": [],
   "source": [
    "from tensorflow.keras.models import Model\n",
    "from tensorflow.keras.layers import Input, Conv2D, MaxPooling2D, Dense, GlobalMaxPooling2D\n",
    "from tensorflow.keras.applications import VGG16"
   ]
  },
  {
   "cell_type": "code",
   "execution_count": 29,
   "id": "16ea571d",
   "metadata": {},
   "outputs": [],
   "source": [
    "#downloading vgg:\n",
    "vgg = VGG16(include_top=False)"
   ]
  },
  {
   "cell_type": "code",
   "execution_count": 30,
   "id": "bb79cb9a",
   "metadata": {},
   "outputs": [
    {
     "name": "stdout",
     "output_type": "stream",
     "text": [
      "Model: \"vgg16\"\n",
      "_________________________________________________________________\n",
      "Layer (type)                 Output Shape              Param #   \n",
      "=================================================================\n",
      "input_1 (InputLayer)         [(None, None, None, 3)]   0         \n",
      "_________________________________________________________________\n",
      "block1_conv1 (Conv2D)        (None, None, None, 64)    1792      \n",
      "_________________________________________________________________\n",
      "block1_conv2 (Conv2D)        (None, None, None, 64)    36928     \n",
      "_________________________________________________________________\n",
      "block1_pool (MaxPooling2D)   (None, None, None, 64)    0         \n",
      "_________________________________________________________________\n",
      "block2_conv1 (Conv2D)        (None, None, None, 128)   73856     \n",
      "_________________________________________________________________\n",
      "block2_conv2 (Conv2D)        (None, None, None, 128)   147584    \n",
      "_________________________________________________________________\n",
      "block2_pool (MaxPooling2D)   (None, None, None, 128)   0         \n",
      "_________________________________________________________________\n",
      "block3_conv1 (Conv2D)        (None, None, None, 256)   295168    \n",
      "_________________________________________________________________\n",
      "block3_conv2 (Conv2D)        (None, None, None, 256)   590080    \n",
      "_________________________________________________________________\n",
      "block3_conv3 (Conv2D)        (None, None, None, 256)   590080    \n",
      "_________________________________________________________________\n",
      "block3_pool (MaxPooling2D)   (None, None, None, 256)   0         \n",
      "_________________________________________________________________\n",
      "block4_conv1 (Conv2D)        (None, None, None, 512)   1180160   \n",
      "_________________________________________________________________\n",
      "block4_conv2 (Conv2D)        (None, None, None, 512)   2359808   \n",
      "_________________________________________________________________\n",
      "block4_conv3 (Conv2D)        (None, None, None, 512)   2359808   \n",
      "_________________________________________________________________\n",
      "block4_pool (MaxPooling2D)   (None, None, None, 512)   0         \n",
      "_________________________________________________________________\n",
      "block5_conv1 (Conv2D)        (None, None, None, 512)   2359808   \n",
      "_________________________________________________________________\n",
      "block5_conv2 (Conv2D)        (None, None, None, 512)   2359808   \n",
      "_________________________________________________________________\n",
      "block5_conv3 (Conv2D)        (None, None, None, 512)   2359808   \n",
      "_________________________________________________________________\n",
      "block5_pool (MaxPooling2D)   (None, None, None, 512)   0         \n",
      "=================================================================\n",
      "Total params: 14,714,688\n",
      "Trainable params: 14,714,688\n",
      "Non-trainable params: 0\n",
      "_________________________________________________________________\n"
     ]
    }
   ],
   "source": [
    "vgg.summary()"
   ]
  },
  {
   "cell_type": "code",
   "execution_count": 31,
   "id": "16ded517",
   "metadata": {},
   "outputs": [],
   "source": [
    "def build_model():\n",
    "    input_layer = Input(shape =(48,48,3))\n",
    "    vgg = VGG16(include_top=False)(input_layer)\n",
    "     \n",
    "    \n",
    "    f1 = GlobalMaxPooling2D()(vgg)\n",
    "    class1 = Dense(2048, activation='relu')(f1)\n",
    "    class2 = Dense(7, activation='sigmoid')(class1)\n",
    "    \n",
    "    emotionreader = Model(inputs=input_layer,outputs=class2)\n",
    "    \n",
    "    return emotionreader"
   ]
  },
  {
   "cell_type": "code",
   "execution_count": 91,
   "id": "317305e8",
   "metadata": {},
   "outputs": [],
   "source": [
    "emotion_reader = build_model()"
   ]
  },
  {
   "cell_type": "code",
   "execution_count": 92,
   "id": "65fa4d10",
   "metadata": {},
   "outputs": [
    {
     "name": "stdout",
     "output_type": "stream",
     "text": [
      "Model: \"model_3\"\n",
      "_________________________________________________________________\n",
      "Layer (type)                 Output Shape              Param #   \n",
      "=================================================================\n",
      "input_8 (InputLayer)         [(None, 48, 48, 3)]       0         \n",
      "_________________________________________________________________\n",
      "vgg16 (Functional)           (None, None, None, 512)   14714688  \n",
      "_________________________________________________________________\n",
      "global_max_pooling2d_3 (Glob (None, 512)               0         \n",
      "_________________________________________________________________\n",
      "dense_6 (Dense)              (None, 2048)              1050624   \n",
      "_________________________________________________________________\n",
      "dense_7 (Dense)              (None, 7)                 14343     \n",
      "=================================================================\n",
      "Total params: 15,779,655\n",
      "Trainable params: 15,779,655\n",
      "Non-trainable params: 0\n",
      "_________________________________________________________________\n"
     ]
    }
   ],
   "source": [
    "emotion_reader.summary()"
   ]
  },
  {
   "cell_type": "code",
   "execution_count": 93,
   "id": "0d757b63",
   "metadata": {},
   "outputs": [],
   "source": [
    "res = train.as_numpy_iterator().next()\n"
   ]
  },
  {
   "cell_type": "code",
   "execution_count": 94,
   "id": "9a2af2e2",
   "metadata": {},
   "outputs": [],
   "source": [
    "X, y = res"
   ]
  },
  {
   "cell_type": "code",
   "execution_count": 95,
   "id": "3c5f16fb",
   "metadata": {},
   "outputs": [
    {
     "data": {
      "text/plain": [
       "(8, 48, 48, 3)"
      ]
     },
     "execution_count": 95,
     "metadata": {},
     "output_type": "execute_result"
    }
   ],
   "source": [
    "X.shape"
   ]
  },
  {
   "cell_type": "code",
   "execution_count": 96,
   "id": "7d02921b",
   "metadata": {},
   "outputs": [
    {
     "data": {
      "text/plain": [
       "numpy.ndarray"
      ]
     },
     "execution_count": 96,
     "metadata": {},
     "output_type": "execute_result"
    }
   ],
   "source": [
    "type(y)"
   ]
  },
  {
   "cell_type": "code",
   "execution_count": 97,
   "id": "5a59a2b6",
   "metadata": {},
   "outputs": [],
   "source": [
    "emotion = emotion_reader.predict([X])"
   ]
  },
  {
   "cell_type": "code",
   "execution_count": 98,
   "id": "952a7b78",
   "metadata": {},
   "outputs": [
    {
     "data": {
      "text/plain": [
       "numpy.ndarray"
      ]
     },
     "execution_count": 98,
     "metadata": {},
     "output_type": "execute_result"
    }
   ],
   "source": [
    "type(emotion)"
   ]
  },
  {
   "cell_type": "code",
   "execution_count": 99,
   "id": "4e880e5a",
   "metadata": {},
   "outputs": [
    {
     "name": "stdout",
     "output_type": "stream",
     "text": [
      "[0.4588163  0.48672104 0.37716696 0.49309632 0.58760625 0.48989803\n",
      " 0.48513365]\n",
      "[0.43372405 0.5458175  0.33934918 0.47039115 0.56269974 0.4960637\n",
      " 0.48984098]\n",
      "[0.2675708  0.47297943 0.36423895 0.37462756 0.61555517 0.5182499\n",
      " 0.5139017 ]\n",
      "[0.40305158 0.54896927 0.27910694 0.43156266 0.6205004  0.54789513\n",
      " 0.551222  ]\n",
      "[0.42949775 0.50763905 0.38560835 0.48678577 0.61685896 0.5644257\n",
      " 0.5153959 ]\n",
      "[0.43685353 0.477322   0.34306827 0.46129262 0.60610014 0.5642501\n",
      " 0.4962344 ]\n",
      "[0.36974528 0.58744824 0.32224274 0.46165046 0.6798466  0.56149554\n",
      " 0.5308598 ]\n",
      "[0.4085261  0.56542635 0.3903917  0.5373832  0.55842316 0.53230363\n",
      " 0.472962  ]\n"
     ]
    }
   ],
   "source": [
    "for e in emotion:\n",
    "    print(e)"
   ]
  },
  {
   "cell_type": "code",
   "execution_count": 100,
   "id": "947ddc74",
   "metadata": {},
   "outputs": [
    {
     "data": {
      "text/plain": [
       "898"
      ]
     },
     "execution_count": 100,
     "metadata": {},
     "output_type": "execute_result"
    }
   ],
   "source": [
    "len(test)"
   ]
  },
  {
   "cell_type": "code",
   "execution_count": 101,
   "id": "51fa3256",
   "metadata": {},
   "outputs": [],
   "source": [
    "batches_per_epoch = len(train)\n",
    "lr_decay = (1/3)/batches_per_epoch\n",
    "opt = tf.keras.optimizers.Adam(learning_rate=0.00001, decay = lr_decay)"
   ]
  },
  {
   "cell_type": "code",
   "execution_count": 102,
   "id": "19fd33b7",
   "metadata": {},
   "outputs": [],
   "source": [
    "loss = tf.keras.losses.BinaryCrossentropy()"
   ]
  },
  {
   "cell_type": "code",
   "execution_count": 103,
   "id": "0e54704e",
   "metadata": {},
   "outputs": [
    {
     "data": {
      "text/plain": [
       "<tf.Tensor: shape=(), dtype=float32, numpy=0.7346281>"
      ]
     },
     "execution_count": 103,
     "metadata": {},
     "output_type": "execute_result"
    }
   ],
   "source": [
    "loss(y[0], emotion)"
   ]
  },
  {
   "cell_type": "code",
   "execution_count": 104,
   "id": "d1ee5bcc",
   "metadata": {},
   "outputs": [],
   "source": [
    "class EmotionReader(Model):\n",
    "    def __init__(self, emotionreader, **kwargs):\n",
    "        super().__init__(**kwargs)\n",
    "        self.model = emotionreader\n",
    "    def compile(self, opt, localizationloss, **kwargs):\n",
    "        super().compile(**kwargs)\n",
    "        self.loss = loss\n",
    "        self.opt = opt\n",
    "    def train_step(self, batch, **kwargs):\n",
    "        X, y = batch\n",
    "        with tf.GradientTape() as tape:\n",
    "            emotions = self.model(X, training=True)\n",
    "\n",
    "            batch_loss = self.loss(y, emotions)\n",
    "            \n",
    "            grad = tape.gradient(batch_loss, self.model.trainable_variables)\n",
    "            \n",
    "        opt.apply_gradients(zip(grad, self.model.trainable_variables))\n",
    "        return {\"total_loss\":batch_loss}\n",
    "    def test_step(self, batch, **kwargs):\n",
    "        X, y = batch\n",
    "        emotions = self.model(X, training=True)\n",
    "        \n",
    "        batch_loss = self.loss(y, emotions)\n",
    "        \n",
    "        return {\"total_loss\":batch_loss}\n",
    "    def call(self, X, **kwargs):\n",
    "        return self.model(X, **kwargs)"
   ]
  },
  {
   "cell_type": "code",
   "execution_count": 105,
   "id": "0912485b",
   "metadata": {},
   "outputs": [],
   "source": [
    "model = EmotionReader(emotion_reader)"
   ]
  },
  {
   "cell_type": "code",
   "execution_count": 106,
   "id": "6e5f7492",
   "metadata": {},
   "outputs": [],
   "source": [
    "#compile the model\n",
    "model.compile(opt,loss)"
   ]
  },
  {
   "cell_type": "code",
   "execution_count": 107,
   "id": "37f4ecde",
   "metadata": {},
   "outputs": [],
   "source": [
    "checkpoint_filepath = os.path.join('checkpoints','checkpoint')\n",
    "model_checkpoint_callback = tf.keras.callbacks.ModelCheckpoint(\n",
    "    filepath=checkpoint_filepath,\n",
    "    save_weights_only=True,\n",
    "    monitor='val_total_loss',\n",
    "    mode='min',\n",
    "    save_best_only=True)"
   ]
  },
  {
   "cell_type": "code",
   "execution_count": 108,
   "id": "d6e1a8a7",
   "metadata": {},
   "outputs": [
    {
     "data": {
      "text/plain": [
       "<tensorflow.python.keras.callbacks.ModelCheckpoint at 0x1e5c53d2080>"
      ]
     },
     "execution_count": 108,
     "metadata": {},
     "output_type": "execute_result"
    }
   ],
   "source": [
    "model_checkpoint_callback"
   ]
  },
  {
   "cell_type": "code",
   "execution_count": 109,
   "id": "a70c6a55",
   "metadata": {},
   "outputs": [
    {
     "name": "stdout",
     "output_type": "stream",
     "text": [
      "Name: tensorflow\n",
      "Version: 2.5.0\n",
      "Summary: TensorFlow is an open source machine learning framework for everyone.\n",
      "Home-page: https://www.tensorflow.org/\n",
      "Author: Google Inc.\n",
      "Author-email: packages@tensorflow.org\n",
      "License: Apache 2.0\n",
      "Location: c:\\users\\władek\\desktop\\venvs\\venv\\lib\\site-packages\n",
      "Requires: absl-py, astunparse, flatbuffers, gast, google-pasta, grpcio, h5py, keras-nightly, keras-preprocessing, numpy, opt-einsum, protobuf, six, tensorboard, tensorflow-estimator, termcolor, typing-extensions, wheel, wrapt\n",
      "Required-by: \n",
      "Note: you may need to restart the kernel to use updated packages.\n"
     ]
    }
   ],
   "source": [
    "%pip show tensorflow"
   ]
  },
  {
   "cell_type": "code",
   "execution_count": 110,
   "id": "223c365b",
   "metadata": {},
   "outputs": [
    {
     "name": "stdout",
     "output_type": "stream",
     "text": [
      "Epoch 1/30\n",
      "3589/3589 [==============================] - 186s 49ms/step - total_loss: 0.2990 - val_total_loss: 0.1531\n",
      "Epoch 2/30\n",
      "3589/3589 [==============================] - 189s 51ms/step - total_loss: 0.2493 - val_total_loss: 0.0394\n",
      "Epoch 3/30\n",
      "3589/3589 [==============================] - 188s 50ms/step - total_loss: 0.2250 - val_total_loss: 0.2972\n",
      "Epoch 4/30\n",
      "3589/3589 [==============================] - 184s 49ms/step - total_loss: 0.2042 - val_total_loss: 0.0512\n",
      "Epoch 5/30\n",
      "3589/3589 [==============================] - 190s 51ms/step - total_loss: 0.1853 - val_total_loss: 0.0093\n",
      "Epoch 6/30\n",
      "3589/3589 [==============================] - 190s 51ms/step - total_loss: 0.1681 - val_total_loss: 0.1959\n",
      "Epoch 7/30\n",
      "3589/3589 [==============================] - 197s 53ms/step - total_loss: 0.1508 - val_total_loss: 0.1462\n",
      "Epoch 8/30\n",
      "3589/3589 [==============================] - 184s 49ms/step - total_loss: 0.1346 - val_total_loss: 0.0697\n",
      "Epoch 9/30\n",
      "3589/3589 [==============================] - 193s 51ms/step - total_loss: 0.1197 - val_total_loss: 0.2397\n",
      "Epoch 10/30\n",
      "3589/3589 [==============================] - 200s 53ms/step - total_loss: 0.1053 - val_total_loss: 0.0199\n",
      "Epoch 11/30\n",
      "3589/3589 [==============================] - 194s 52ms/step - total_loss: 0.0922 - val_total_loss: 0.7511\n",
      "Epoch 12/30\n",
      "3589/3589 [==============================] - 191s 51ms/step - total_loss: 0.0809 - val_total_loss: 0.1046\n",
      "Epoch 13/30\n",
      "3589/3589 [==============================] - 194s 52ms/step - total_loss: 0.0701 - val_total_loss: 0.8671\n",
      "Epoch 14/30\n",
      "3589/3589 [==============================] - 187s 50ms/step - total_loss: 0.0606 - val_total_loss: 0.0253\n",
      "Epoch 15/30\n",
      "3589/3589 [==============================] - 189s 50ms/step - total_loss: 0.0522 - val_total_loss: 0.0930\n",
      "Epoch 16/30\n",
      "3589/3589 [==============================] - 188s 50ms/step - total_loss: 0.0452 - val_total_loss: 0.2716\n",
      "Epoch 17/30\n",
      "3589/3589 [==============================] - 190s 51ms/step - total_loss: 0.0390 - val_total_loss: 0.0949\n",
      "Epoch 18/30\n",
      "3589/3589 [==============================] - 192s 51ms/step - total_loss: 0.0333 - val_total_loss: 0.1307\n",
      "Epoch 19/30\n",
      "3589/3589 [==============================] - 199s 53ms/step - total_loss: 0.0288 - val_total_loss: 0.0016\n",
      "Epoch 20/30\n",
      "3589/3589 [==============================] - 196s 52ms/step - total_loss: 0.0248 - val_total_loss: 0.7135\n",
      "Epoch 21/30\n",
      "3589/3589 [==============================] - 197s 53ms/step - total_loss: 0.0218 - val_total_loss: 1.4878e-04\n",
      "Epoch 22/30\n",
      "3589/3589 [==============================] - 197s 53ms/step - total_loss: 0.0188 - val_total_loss: 1.6440\n",
      "Epoch 23/30\n",
      "3589/3589 [==============================] - 182s 48ms/step - total_loss: 0.0167 - val_total_loss: 0.0984\n",
      "Epoch 24/30\n",
      "3589/3589 [==============================] - 186s 50ms/step - total_loss: 0.0148 - val_total_loss: 0.4212\n",
      "Epoch 25/30\n",
      "3589/3589 [==============================] - 195s 52ms/step - total_loss: 0.0131 - val_total_loss: 0.5554\n",
      "Epoch 26/30\n",
      "3589/3589 [==============================] - 188s 50ms/step - total_loss: 0.0119 - val_total_loss: 0.0126\n",
      "Epoch 27/30\n",
      "3589/3589 [==============================] - 189s 50ms/step - total_loss: 0.0111 - val_total_loss: 1.5426\n",
      "Epoch 28/30\n",
      "3589/3589 [==============================] - 185s 49ms/step - total_loss: 0.0097 - val_total_loss: 0.0824\n",
      "Epoch 29/30\n",
      "3589/3589 [==============================] - 188s 50ms/step - total_loss: 0.0090 - val_total_loss: 0.9999\n",
      "Epoch 30/30\n",
      "3589/3589 [==============================] - 194s 52ms/step - total_loss: 0.0085 - val_total_loss: 2.9591e-05\n"
     ]
    }
   ],
   "source": [
    "#fit the model\n",
    "history = model.fit(train, epochs=30, validation_data=test, callbacks=model_checkpoint_callback)\n",
    "\n",
    "#plot the results"
   ]
  },
  {
   "cell_type": "code",
   "execution_count": 111,
   "id": "5e963f8a",
   "metadata": {},
   "outputs": [
    {
     "data": {
      "image/png": "[encoded data removed]",
      "text/plain": [
       "<Figure size 640x480 with 1 Axes>"
      ]
     },
     "metadata": {},
     "output_type": "display_data"
    }
   ],
   "source": [
    "plt.plot(history.history['val_total_loss'], color='teal', label='val total loss')\n",
    "plt.plot(history.history['total_loss'], color='orange', label='total loss')\n",
    "plt.legend()\n",
    "\n",
    "plt.yscale(\"log\")\n",
    "plt.show()"
   ]
  },
  {
   "cell_type": "code",
   "execution_count": 112,
   "id": "4887f620",
   "metadata": {},
   "outputs": [
    {
     "data": {
      "text/plain": [
       "<tensorflow.python.training.tracking.util.CheckpointLoadStatus at 0x1e5d0e71be0>"
      ]
     },
     "execution_count": 112,
     "metadata": {},
     "output_type": "execute_result"
    }
   ],
   "source": [
    "model.load_weights(os.path.join('checkpoints','checkpoint'))"
   ]
  },
  {
   "cell_type": "code",
   "execution_count": 257,
   "id": "7b23bb3a",
   "metadata": {},
   "outputs": [],
   "source": [
    "from tensorflow.keras.models import load_model"
   ]
  },
  {
   "cell_type": "code",
   "execution_count": 113,
   "id": "95e3de98",
   "metadata": {},
   "outputs": [
    {
     "name": "stdout",
     "output_type": "stream",
     "text": [
      "WARNING:tensorflow:Compiled the loaded model, but the compiled metrics have yet to be built. `model.compile_metrics` will be empty until you train or evaluate the model.\n"
     ]
    }
   ],
   "source": [
    "emotion_reader.save('emotion_reader.h5')"
   ]
  },
  {
   "cell_type": "code",
   "execution_count": 114,
   "id": "c0467896",
   "metadata": {},
   "outputs": [
    {
     "name": "stdout",
     "output_type": "stream",
     "text": [
      "WARNING:tensorflow:No training configuration found in the save file, so the model was *not* compiled. Compile it manually.\n"
     ]
    }
   ],
   "source": [
    "facetracker = load_model('face_tracker.h5')"
   ]
  },
  {
   "cell_type": "code",
   "execution_count": 115,
   "id": "033b5de4",
   "metadata": {},
   "outputs": [
    {
     "name": "stdout",
     "output_type": "stream",
     "text": [
      "Model: \"model_1\"\n",
      "__________________________________________________________________________________________________\n",
      "Layer (type)                    Output Shape         Param #     Connected to                     \n",
      "==================================================================================================\n",
      "input_4 (InputLayer)            [(None, 120, 120, 3) 0                                            \n",
      "__________________________________________________________________________________________________\n",
      "vgg16 (Functional)              (None, None, None, 5 14714688    input_4[0][0]                    \n",
      "__________________________________________________________________________________________________\n",
      "global_max_pooling2d_3 (GlobalM (None, 512)          0           vgg16[0][0]                      \n",
      "__________________________________________________________________________________________________\n",
      "global_max_pooling2d_4 (GlobalM (None, 512)          0           vgg16[0][0]                      \n",
      "__________________________________________________________________________________________________\n",
      "global_max_pooling2d_5 (GlobalM (None, 512)          0           vgg16[0][0]                      \n",
      "__________________________________________________________________________________________________\n",
      "dense_6 (Dense)                 (None, 2048)         1050624     global_max_pooling2d_3[0][0]     \n",
      "__________________________________________________________________________________________________\n",
      "dense_8 (Dense)                 (None, 2048)         1050624     global_max_pooling2d_4[0][0]     \n",
      "__________________________________________________________________________________________________\n",
      "dense_10 (Dense)                (None, 2048)         1050624     global_max_pooling2d_5[0][0]     \n",
      "__________________________________________________________________________________________________\n",
      "dense_7 (Dense)                 (None, 1)            2049        dense_6[0][0]                    \n",
      "__________________________________________________________________________________________________\n",
      "dense_9 (Dense)                 (None, 4)            8196        dense_8[0][0]                    \n",
      "__________________________________________________________________________________________________\n",
      "dense_11 (Dense)                (None, 9)            18441       dense_10[0][0]                   \n",
      "==================================================================================================\n",
      "Total params: 17,895,246\n",
      "Trainable params: 17,895,246\n",
      "Non-trainable params: 0\n",
      "__________________________________________________________________________________________________\n"
     ]
    }
   ],
   "source": [
    "facetracker.summary()"
   ]
  },
  {
   "cell_type": "code",
   "execution_count": 116,
   "id": "bc87a938",
   "metadata": {},
   "outputs": [],
   "source": [
    "test_data = test.as_numpy_iterator()"
   ]
  },
  {
   "cell_type": "code",
   "execution_count": 117,
   "id": "da1aed7b",
   "metadata": {},
   "outputs": [],
   "source": [
    "X, y = test_data.next()"
   ]
  },
  {
   "cell_type": "code",
   "execution_count": 118,
   "id": "927fa215",
   "metadata": {},
   "outputs": [],
   "source": [
    "y_hat = facetracker.predict(X)"
   ]
  },
  {
   "cell_type": "code",
   "execution_count": 160,
   "id": "ab99a79e",
   "metadata": {},
   "outputs": [],
   "source": [
    "num_to_emo = {emotion_dict[emotion]:emotion for emotion in emotion_dict}"
   ]
  },
  {
   "cell_type": "code",
   "execution_count": null,
   "id": "60fdb5d9",
   "metadata": {},
   "outputs": [],
   "source": []
  }
 ],
 "metadata": {
  "kernelspec": {
   "display_name": "AI-ML",
   "language": "python",
   "name": "ai-ml"
  },
  "language_info": {
   "codemirror_mode": {
    "name": "ipython",
    "version": 3
   },
   "file_extension": ".py",
   "mimetype": "text/x-python",
   "name": "python",
   "nbconvert_exporter": "python",
   "pygments_lexer": "ipython3",
   "version": "3.7.0"
  }
 },
 "nbformat": 4,
 "nbformat_minor": 5
}
